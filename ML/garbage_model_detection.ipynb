{
 "cells": [
  {
   "cell_type": "code",
   "execution_count": 9,
   "metadata": {},
   "outputs": [
    {
     "name": "stdout",
     "output_type": "stream",
     "text": [
      "Note: you may need to restart the kernel to use updated packages.\n"
     ]
    },
    {
     "name": "stderr",
     "output_type": "stream",
     "text": [
      "WARNING: You are using pip version 21.2.4; however, version 25.0.1 is available.\n",
      "You should consider upgrading via the 'c:\\Users\\nir.morad\\AppData\\Local\\Programs\\Python\\Python310\\python.exe -m pip install --upgrade pip' command.\n"
     ]
    }
   ],
   "source": [
    "%pip install -q -U tensorflow"
   ]
  },
  {
   "cell_type": "code",
   "execution_count": 11,
   "metadata": {},
   "outputs": [],
   "source": [
    "import tensorflow as tf\n"
   ]
  },
  {
   "cell_type": "code",
   "execution_count": 13,
   "metadata": {},
   "outputs": [
    {
     "name": "stdout",
     "output_type": "stream",
     "text": [
      "There are 0  directories and 0 images in 'data'.\n",
      "There are 0  directories and 0 images in 'data\\testing'.\n",
      "There are 44  directories and 44 images in 'data\\testing\\blue'.\n",
      "There are 12  directories and 12 images in 'data\\testing\\brown'.\n",
      "There are 10  directories and 10 images in 'data\\testing\\green'.\n",
      "There are 16  directories and 16 images in 'data\\testing\\orange'.\n",
      "There are 35  directories and 35 images in 'data\\testing\\yellow'.\n",
      "There are 0  directories and 0 images in 'data\\traning'.\n",
      "There are 1046  directories and 1046 images in 'data\\traning\\blue'.\n",
      "There are 973  directories and 973 images in 'data\\traning\\brown'.\n",
      "There are 1050  directories and 1050 images in 'data\\traning\\green'.\n",
      "There are 1049  directories and 1049 images in 'data\\traning\\orange'.\n",
      "There are 1439  directories and 1439 images in 'data\\traning\\yellow'.\n"
     ]
    }
   ],
   "source": [
    "import os\n",
    "\n",
    "DATA_DIR  = 'data'\n",
    "for dirpath, dirnames, filenames in os.walk(DATA_DIR):\n",
    "    print(f\"There are {len(filenames)}  directories and {len(filenames)} images in '{dirpath}'.\")"
   ]
  },
  {
   "cell_type": "code",
   "execution_count": 19,
   "metadata": {},
   "outputs": [
    {
     "name": "stdout",
     "output_type": "stream",
     "text": [
      "['blue' 'brown' 'green' 'orange' 'yellow']\n"
     ]
    }
   ],
   "source": [
    "\n",
    "import pathlib\n",
    "import numpy as np\n",
    "data_dir = pathlib.Path(DATA_DIR+'/training')\n",
    "class_names = np.array(sorted([ite.name for ite in data_dir.glob('*')]))\n",
    "print(class_names)"
   ]
  },
  {
   "cell_type": "code",
   "execution_count": null,
   "metadata": {},
   "outputs": [],
   "source": []
  },
  {
   "cell_type": "markdown",
   "metadata": {},
   "source": []
  },
  {
   "cell_type": "code",
   "execution_count": null,
   "metadata": {},
   "outputs": [],
   "source": []
  }
 ],
 "metadata": {
  "kernelspec": {
   "display_name": "Python 3",
   "language": "python",
   "name": "python3"
  },
  "language_info": {
   "codemirror_mode": {
    "name": "ipython",
    "version": 3
   },
   "file_extension": ".py",
   "mimetype": "text/x-python",
   "name": "python",
   "nbconvert_exporter": "python",
   "pygments_lexer": "ipython3",
   "version": "3.10.1"
  }
 },
 "nbformat": 4,
 "nbformat_minor": 2
}
